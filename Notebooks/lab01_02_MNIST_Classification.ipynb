{
  "nbformat": 4,
  "nbformat_minor": 0,
  "metadata": {
    "colab": {
      "name": "1.MNIST_Classification.ipynb",
      "provenance": [],
      "collapsed_sections": []
    },
    "kernelspec": {
      "name": "python3",
      "display_name": "Python 3"
    },
    "language_info": {
      "name": "python"
    },
    "accelerator": "GPU"
  },
  "cells": [
    {
      "cell_type": "code",
      "metadata": {
        "id": "4FCtmZFYRez5"
      },
      "source": [
        "# Import modules\n",
        "import torch\n",
        "import os\n",
        "\n",
        "import torch.nn.functional as F\n",
        "import torchvision.transforms as transforms\n",
        "import numpy as np\n",
        "\n",
        "from torch import nn, optim\n",
        "from torchvision.datasets import MNIST\n",
        "from torch.utils.data import DataLoader\n",
        "from torchvision import models\n",
        "from torch.cuda import is_available"
      ],
      "execution_count": null,
      "outputs": []
    },
    {
      "cell_type": "code",
      "metadata": {
        "id": "UWayDHHnF2Rq"
      },
      "source": [
        "device=torch.device('cuda' if is_available() else 'cpu')\n",
        "device"
      ],
      "execution_count": null,
      "outputs": []
    },
    {
      "cell_type": "code",
      "metadata": {
        "id": "EsL0vn3LSfH2"
      },
      "source": [
        "# Define tranform function\n",
        "tranform=transforms.Compose([transforms.ToTensor(), # Convert image to tensor\n",
        "                             transforms.Normalize((0.1307,),(0.3081,))]) # Normalize tensor\n",
        "train_data=MNIST(root='./train',train=True,transform=tranform,download=True) # Download train data\n",
        "test_data=MNIST(root='./test',train=False,transform=tranform,download=True) # Download test data\n",
        "\n",
        "print('Train Data Length:',len(train_data))\n",
        "print('Test Data Length:',len(test_data))"
      ],
      "execution_count": null,
      "outputs": []
    },
    {
      "cell_type": "code",
      "metadata": {
        "id": "40RQucr8agqI"
      },
      "source": [
        "# ResNet Based Model\n",
        "class Model(nn.Module):\n",
        "    def __init__(self,num_classes):\n",
        "        super(Model,self).__init__()\n",
        "        # As ResNet designed for 3-dimensional RGB image, Strech 1-dimensional MNIST image to 3-dimensional tensor\n",
        "        self.conv2d=nn.Conv2d(1,3,5)\n",
        "        # Backbone models was trained with ImageNet datasets\n",
        "        self.backbone=models.resnet18(pretrained=True)\n",
        "        self.backbone.fc=nn.Linear(self.backbone.fc.in_features,num_classes)\n",
        "\n",
        "    def forward(self,x):\n",
        "        x=self.conv2d(x)\n",
        "        x=self.backbone(x)\n",
        "        return x"
      ],
      "execution_count": null,
      "outputs": []
    },
    {
      "cell_type": "code",
      "metadata": {
        "id": "jj7_qQ9OcOao"
      },
      "source": [
        "model=Model(10)\n",
        "model=model.to(device)\n",
        "\n",
        "criterion=nn.CrossEntropyLoss(reduction='mean')\n",
        "criterion=criterion.to(device)\n",
        "\n",
        "optimizer=optim.Adam(model.parameters(),lr=0.001)\n",
        "print(model)"
      ],
      "execution_count": null,
      "outputs": []
    },
    {
      "cell_type": "code",
      "metadata": {
        "id": "F44scqrUdmKX"
      },
      "source": [
        "batch_size=256\n",
        "\n",
        "# Dataloader batches dataset for batch_size\n",
        "train_loader=DataLoader(train_data,batch_size=batch_size,shuffle=True)\n",
        "test_loader=DataLoader(test_data,batch_size=batch_size,shuffle=False)"
      ],
      "execution_count": null,
      "outputs": []
    },
    {
      "cell_type": "code",
      "metadata": {
        "id": "Un1XidOdde_z"
      },
      "source": [
        "n_epochs=5\n",
        "\n",
        "for epoch in range(n_epochs):\n",
        "    # Train Step\n",
        "    model.train()\n",
        "    train_losses=[]\n",
        "    for i,(data,target) in enumerate(train_loader):\n",
        "        data,target=data.to(device),target.to(device)\n",
        "        # Forward operation\n",
        "        pred=model(data)\n",
        "        # Calculate loss\n",
        "        loss=criterion(pred,target)\n",
        "        # Calculate gradients\n",
        "        loss.backward()\n",
        "        # Update weights\n",
        "        optimizer.step()\n",
        "        # Initialize gradients\n",
        "        optimizer.zero_grad()\n",
        "        train_losses.append(loss.item())\n",
        "        if i % 100 == 0:\n",
        "            print('Train Epoch: {}({:.4f}%) Loss:{:.8f}'.format(epoch,(i+1)/len(train_loader)*100,np.mean(train_losses)))"
      ],
      "execution_count": null,
      "outputs": []
    },
    {
      "cell_type": "code",
      "metadata": {
        "id": "0sm5R_czf2op"
      },
      "source": [
        "# Test step\n",
        "model.eval()\n",
        "correct=0\n",
        "for data,label in test_loader:\n",
        "    data,label=data.to(device),label.to(device)\n",
        "    # Forward operation\n",
        "    pred=model(data)\n",
        "    pred_max=np.argmax(pred.detach().cpu(),axis=1)\n",
        "    for pair in zip(label,pred_max):\n",
        "        print('Label: {}, Pred: {}'.format(pair[0],pair[1]))\n",
        "        if pair[0]==pair[1]:\n",
        "            correct+=1\n",
        "\n",
        "print('Accuracy: {:.2f}%'.format(correct/len(test_data)*100))"
      ],
      "execution_count": null,
      "outputs": []
    },
    {
      "cell_type": "code",
      "metadata": {
        "id": "90G1l7iik8cd"
      },
      "source": [
        "# Upload your own image and test\n",
        "from google.colab import files\n",
        "from PIL import Image, ImageOps\n",
        "from IPython.display import display\n",
        "\n",
        "custom_transform=transforms.Compose([transforms.Resize((28,28)),transforms.ToTensor(),transforms.Normalize((0.1307,),(0.3081,))])\n",
        "uploaded=files.upload()\n",
        "filename=next(iter(uploaded))\n",
        "img=Image.open(filename)\n",
        "img=img.convert('1')\n",
        "img_reverse=ImageOps.invert(img.convert('RGB')).convert('1')\n",
        "img,img_reverse=custom_transform(img),custom_transform(img_reverse)\n",
        "\n",
        "model.eval()\n",
        "ToPILConverter=transforms.ToPILImage()\n",
        "for i in [img,img_reverse]:\n",
        "    pred=model(i.unsqueeze(0).to(device))\n",
        "    pred_max=np.argmax(pred.detach().cpu(),axis=1)\n",
        "    i=ToPILConverter(i)\n",
        "    display(i)\n",
        "    print('PRED: {}'.format(pred_max.item()))"
      ],
      "execution_count": null,
      "outputs": []
    }
  ]
}