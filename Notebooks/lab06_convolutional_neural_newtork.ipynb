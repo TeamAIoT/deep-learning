{
  "nbformat": 4,
  "nbformat_minor": 0,
  "metadata": {
    "colab": {
      "name": "lab06_convolutional_neural_newtork.ipynb",
      "provenance": [],
      "collapsed_sections": []
    },
    "kernelspec": {
      "name": "python3",
      "display_name": "Python 3"
    },
    "language_info": {
      "name": "python"
    },
    "accelerator": "GPU"
  },
  "cells": [
    {
      "cell_type": "markdown",
      "source": [
        "# Download data"
      ],
      "metadata": {
        "id": "TxHt2GBMVyIk"
      }
    },
    {
      "cell_type": "code",
      "source": [
        "!wget https://github.com/TeamAIoT/deep-learning/blob/main/Dataset/dogsandcats.zip?raw=true -O dogsandcats.zip\n",
        "!unzip dogsandcats.zip"
      ],
      "metadata": {
        "id": "Jn4M9TjQ5O9b"
      },
      "execution_count": null,
      "outputs": []
    },
    {
      "cell_type": "markdown",
      "source": [
        "# Import modules"
      ],
      "metadata": {
        "id": "mfOlZ5j2zGpm"
      }
    },
    {
      "cell_type": "code",
      "execution_count": null,
      "metadata": {
        "id": "AWqK1S7yy-3E"
      },
      "outputs": [],
      "source": [
        "import torch\n",
        "import torchvision\n",
        "import os\n",
        "\n",
        "import torch.nn as nn\n",
        "import torch.optim as optim\n",
        "import torchvision.transforms as transforms\n",
        "import matplotlib.pyplot as plt\n",
        "import pandas as pd\n",
        "import numpy as np\n",
        "\n",
        "from torch.utils.data import Dataset, DataLoader, random_split\n",
        "from torch.cuda import is_available\n",
        "from PIL import Image\n",
        "\n",
        "%matplotlib inline"
      ]
    },
    {
      "cell_type": "code",
      "source": [
        "device='cuda' if is_available() else 'cpu'\n",
        "print(device)"
      ],
      "metadata": {
        "id": "7JEpdPmrHsw5"
      },
      "execution_count": null,
      "outputs": []
    },
    {
      "cell_type": "markdown",
      "source": [
        "# Define a dataset"
      ],
      "metadata": {
        "id": "K1Io5juMV3t5"
      }
    },
    {
      "cell_type": "code",
      "source": [
        "class DogsAndCats(Dataset):\n",
        "    def __init__(self,mode='train',transform=None):\n",
        "        # implement below\n",
        "\n",
        "    def __getitem__(self,idx):\n",
        "        # Implement below\n",
        "\n",
        "    def __len__(self):\n",
        "        # Implement below"
      ],
      "metadata": {
        "id": "c_Smwk8OztlM"
      },
      "execution_count": null,
      "outputs": []
    },
    {
      "cell_type": "markdown",
      "source": [
        "# Split data into train data and validation data"
      ],
      "metadata": {
        "id": "fzSdQ8O8WELi"
      }
    },
    {
      "cell_type": "code",
      "source": [
        "transform=transforms.Compose([ # You can add more augmentations here\n",
        "                              transforms.Resize((224,224)),\n",
        "                              transforms.ToTensor()\n",
        "                              ])\n",
        "\n",
        "all_data=DogsAndCats(mode='train',transform=transform)\n",
        "\n",
        "train_ratio=# Type here\n",
        "train_data_len=int(len(all_data)*train_ratio)\n",
        "valid_data_len=len(all_data)-train_data_len\n",
        "\n",
        "train_data,valid_data=random_split(all_data,[train_data_len,valid_data_len])"
      ],
      "metadata": {
        "id": "tZskfPjxGAgG"
      },
      "execution_count": null,
      "outputs": []
    },
    {
      "cell_type": "markdown",
      "source": [
        "# Set batch size and declare dataloaders"
      ],
      "metadata": {
        "id": "wLblAuzMWLct"
      }
    },
    {
      "cell_type": "code",
      "source": [
        "batch_size=# Type here\n",
        "\n",
        "train_loader=DataLoader(train_data,batch_size=batch_size,shuffle=True)\n",
        "valid_loader=DataLoader(valid_data,batch_size=batch_size,shuffle=False)"
      ],
      "metadata": {
        "id": "HUnGJlBeGvPO"
      },
      "execution_count": null,
      "outputs": []
    },
    {
      "cell_type": "markdown",
      "source": [
        "# Define a model"
      ],
      "metadata": {
        "id": "aQsfL-E6Wbmu"
      }
    },
    {
      "cell_type": "code",
      "source": [
        "class Model(nn.Module):\n",
        "    def __init__(self):\n",
        "        super(Model,self).__init__()\n",
        "        # Implement below\n",
        "\n",
        "    def forward(self,x):\n",
        "        # Implement below"
      ],
      "metadata": {
        "id": "5vboPKpfG_g8"
      },
      "execution_count": null,
      "outputs": []
    },
    {
      "cell_type": "markdown",
      "source": [
        "# Set learning rate, loss function and optimizer"
      ],
      "metadata": {
        "id": "ARulU6_wWgyS"
      }
    },
    {
      "cell_type": "code",
      "source": [
        "lr=# Type here\n",
        "\n",
        "model=Model()\n",
        "criterion=# Select appropriate loss function\n",
        "optimizer=# Type here\n",
        "\n",
        "model,criterion=model.to(device),criterion.to(device)"
      ],
      "metadata": {
        "id": "3ilC-xudHq4_"
      },
      "execution_count": null,
      "outputs": []
    },
    {
      "cell_type": "markdown",
      "source": [
        "# Train and validation"
      ],
      "metadata": {
        "id": "Q16vkU0JWqmM"
      }
    },
    {
      "cell_type": "code",
      "source": [
        "def train(model,criterion,optimizer,train_loader,valid_loader,num_epochs=10):\n",
        "    # Implement here\n",
        "    "
      ],
      "metadata": {
        "id": "r9mIg6V5IR70"
      },
      "execution_count": null,
      "outputs": []
    },
    {
      "cell_type": "code",
      "source": [
        "train(model,criterion,optimizer,train_loader,valid_loader,num_epochs=10)"
      ],
      "metadata": {
        "id": "dqHq3IqJIan2"
      },
      "execution_count": null,
      "outputs": []
    },
    {
      "cell_type": "code",
      "source": [
        "# Implement here to show avearge loss and accuracy as a graph"
      ],
      "metadata": {
        "id": "kT3kkKXHIopA"
      },
      "execution_count": null,
      "outputs": []
    },
    {
      "cell_type": "markdown",
      "source": [
        "# Test"
      ],
      "metadata": {
        "id": "FHt-nz8cWuY4"
      }
    },
    {
      "cell_type": "code",
      "source": [
        "test_transform=transforms.Compose([ # You can add more augmentations here\n",
        "                              transforms.Resize((224,224)),\n",
        "                              transforms.ToTensor()\n",
        "                              ])\n",
        "test_data=DogsAndCats(mode='test',transform=test_transform)\n",
        "test_loader=DataLoader(test_data,batch_size=batch_size,shuffle=False)"
      ],
      "metadata": {
        "id": "Wt5ECFrwJAXv"
      },
      "execution_count": null,
      "outputs": []
    },
    {
      "cell_type": "code",
      "source": [
        "# Do not edit code in this cell\n",
        "def test(model,test_loader,test_data_len=5000):\n",
        "    model.eval()\n",
        "    with torch.no_grad():\n",
        "        test_acc=0\n",
        "        for data,label in test_loader:\n",
        "            data=data.to(device)\n",
        "            pred=model(data)\n",
        "            pred=np.where(pred.cpu()>=0.5,1,0)\n",
        "            correct=np.equal(pred,label).sum()\n",
        "            test_acc+=correct\n",
        "    return test_acc/test_data_len"
      ],
      "metadata": {
        "id": "p184HLCNIiv3"
      },
      "execution_count": null,
      "outputs": []
    },
    {
      "cell_type": "code",
      "source": [
        "test_acc=test(model,test_loader,len(test_data))\n",
        "print('Evaulation Result: {:.4f}%'.format(test_acc*100))"
      ],
      "metadata": {
        "id": "3uaLe3RbL4Lq"
      },
      "execution_count": null,
      "outputs": []
    }
  ]
}