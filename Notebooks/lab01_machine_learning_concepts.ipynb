{
  "nbformat": 4,
  "nbformat_minor": 0,
  "metadata": {
    "colab": {
      "name": "lab01_machine_learning_concepts",
      "provenance": [],
      "collapsed_sections": []
    },
    "kernelspec": {
      "name": "python3",
      "display_name": "Python 3"
    },
    "language_info": {
      "name": "python"
    }
  },
  "cells": [
    {
      "cell_type": "markdown",
      "metadata": {
        "id": "NhDv4Q3rhbDH"
      },
      "source": [
        "# 딥러닝의 간단한 예시"
      ]
    },
    {
      "cell_type": "markdown",
      "metadata": {
        "id": "JRIA_7rsPRU5"
      },
      "source": [
        "1. 모델의 차수가 1차인 경우  \n",
        "$$ y=Wx+b $$ \n",
        "학습 데이터: x=[1,2,3,4], y=[3,5,7,9]  \n",
        "테스트 데이터: x=[5,6], y=[11,13]"
      ]
    },
    {
      "cell_type": "code",
      "metadata": {
        "id": "Pkq1UA10qabn"
      },
      "source": [
        "# 데이터 정의\n",
        "train_x=[1,2,3,4]\n",
        "train_y=[3,5,7,9]\n",
        "test_x=[5,6]\n",
        "test_y=[11,13]"
      ],
      "execution_count": null,
      "outputs": []
    },
    {
      "cell_type": "code",
      "metadata": {
        "id": "qLhcfgKiqc1x"
      },
      "source": [
        "# 모델 정의\n",
        "def model(x,W,b):\n",
        "    return W*x+b"
      ],
      "execution_count": null,
      "outputs": []
    },
    {
      "cell_type": "code",
      "metadata": {
        "id": "oB4KktDUPLyU"
      },
      "source": [
        "# 학습\n",
        "def correct(l1,l2):\n",
        "    flag=True\n",
        "    for x,y in zip(l1,l2):\n",
        "        if x!=y:\n",
        "            flag=False\n",
        "            break\n",
        "    return flag\n",
        "\n",
        "best_W=None\n",
        "best_b=None\n",
        "for W in range(-10,10):\n",
        "    for b in range(-10,10):\n",
        "        preds=[]\n",
        "        for x,y in zip(train_x,train_y):\n",
        "            pred=model(x,W,b)\n",
        "            preds.append(pred)\n",
        "        if correct(preds,train_y):\n",
        "            best_W=W\n",
        "            best_b=b\n",
        "        print('W:{} b:{} x:{} y:{} pred:{}'.format(W,b,train_x,train_y,preds))\n",
        "\n",
        "print(\"Best parameters: W:{} b:{}\".format(best_W,best_b))"
      ],
      "execution_count": null,
      "outputs": []
    },
    {
      "cell_type": "code",
      "metadata": {
        "id": "zEoBChIw_M2-"
      },
      "source": [
        "# 모델 평가\n",
        "test_preds=[]\n",
        "for x in test_x:\n",
        "    pred=model(x,best_W,best_b)\n",
        "    test_preds.append(pred)\n",
        "print('Model Evaluation: test_y:{} pred:{} correct:{}'.format(test_y,test_preds,correct(test_preds,test_y)))"
      ],
      "execution_count": null,
      "outputs": []
    },
    {
      "cell_type": "markdown",
      "metadata": {
        "id": "0CYWrvDzhvgO"
      },
      "source": [
        "2. 모델의 차수가 2차인 경우\n",
        "$$y=W_1x^2+W_2x+b$$\n",
        "학습 데이터: x=[1,2,3,4], y=[1,3,9,19]  \n",
        "테스트 데이터: x=[5,6], y=[33,51]"
      ]
    },
    {
      "cell_type": "code",
      "metadata": {
        "id": "WpGIZPyRqlL6"
      },
      "source": [
        "# 데이터 정의\n",
        "train_x=[1,2,3,4]\n",
        "train_y=[1,3,9,19]\n",
        "test_x=[5,6]\n",
        "test_y=[33,51]"
      ],
      "execution_count": null,
      "outputs": []
    },
    {
      "cell_type": "code",
      "metadata": {
        "id": "VpS-XzgKqnOq"
      },
      "source": [
        "# 모델 정의\n",
        "def model(x,W1,W2,b):\n",
        "    return W1*x**2+W2*x+b"
      ],
      "execution_count": null,
      "outputs": []
    },
    {
      "cell_type": "code",
      "metadata": {
        "id": "881zNPVsRgWD"
      },
      "source": [
        "# 학습\n",
        "def correct(l1,l2):\n",
        "    flag=True\n",
        "    for x,y in zip(l1,l2):\n",
        "        if x!=y:\n",
        "            flag=False\n",
        "            break\n",
        "    return flag\n",
        "\n",
        "best_W1=None\n",
        "best_W2=None\n",
        "best_b=None\n",
        "\n",
        "for W1 in range(-10,10):\n",
        "    for W2 in range(-10,10):\n",
        "        for b in range(-10,10):\n",
        "            preds=[]\n",
        "            for x,y in zip(train_x,train_y):\n",
        "                pred=model(x,W1,W2,b)\n",
        "                preds.append(pred)\n",
        "            if correct(preds,train_y):\n",
        "                best_W1=W1\n",
        "                best_W2=W2\n",
        "                best_b=b\n",
        "            print('W1:{} W2:{} b:{} x:{} y:{} pred:{}'.format(W1,W2,b,train_x,train_y,preds))\n",
        "\n",
        "print(\"Best parameters: W1:{} W2:{} b:{}\".format(best_W1,best_W2,best_b))\n"
      ],
      "execution_count": null,
      "outputs": []
    },
    {
      "cell_type": "code",
      "metadata": {
        "id": "84FyHuvQ-gQS"
      },
      "source": [
        "# 모델 평가\n",
        "test_preds=[]\n",
        "for x in test_x:\n",
        "    pred=model(x,best_W1,best_W2,best_b)\n",
        "    test_preds.append(pred)\n",
        "print('Model Evaluation: test_y:{} pred:{} correct:{}'.format(test_y,test_preds,correct(test_preds,test_y)))"
      ],
      "execution_count": null,
      "outputs": []
    },
    {
      "cell_type": "markdown",
      "metadata": {
        "id": "lrTqdtEzupI6"
      },
      "source": [
        "# 모델의 성능 측정\n",
        "실제 데이터들은 노이즈가 있는 등, 위의 두 예시처럼 모델의 예측 결과가 정확히 들어 맞는 경우는 흔하지 않습니다.  \n",
        "그렇기 때문에 똑같이 오차가 발생한 경우여도 최적의 해를 구해야하는 방법을 찾아야합니다.  \n",
        "\n",
        "이번 실습에서는 두가지 손실 함수를 소개하고 적용시켜보겠습니다.  \n",
        "손실함수는 2장 수학 강의에서 최적화에 활용되니 잘 알아두시면 좋습니다.  "
      ]
    },
    {
      "cell_type": "markdown",
      "metadata": {
        "id": "eyytDQ_eu0V7"
      },
      "source": [
        "1. Mean Absolute Error(MAE)  \n",
        "MAE는 모델의 예측값(o)과 정답(y)간의 차의 절댓값의 평균입니다.  \n",
        "수식으로 표현하자면 다음과 같습니다.\n",
        "\n",
        "$$MAE(o,y)=\\cfrac{1}{n}\\sum_{i=1}^{n}|o_i-y_i|$$"
      ]
    },
    {
      "cell_type": "code",
      "metadata": {
        "id": "t2xnR5sKuxXv"
      },
      "source": [
        "def MAE(output,y):\n",
        "    result=0\n",
        "    for oi,yi in zip(output,y):\n",
        "        result+=abs(oi-yi)\n",
        "    return result/len(output)"
      ],
      "execution_count": null,
      "outputs": []
    },
    {
      "cell_type": "markdown",
      "metadata": {
        "id": "RJ93YRBIv2Xz"
      },
      "source": [
        "2. Mean Squared Error(MSE)  \n",
        "MSE는 모델의 예측값(o)과 정답(y)간의 차를 구하고 이를 제곱한 값의 평균입니다.\n",
        "$$MSE(o,y)=\\cfrac{1}{n}\\sum_{i=1}^{n}{(o_i-y_i)}^2$$"
      ]
    },
    {
      "cell_type": "code",
      "metadata": {
        "id": "-c2q5HkL7l_u"
      },
      "source": [
        "def MSE(output,y):\n",
        "    result=0\n",
        "    for oi,yi in zip(output,y):\n",
        "        result+=(oi-yi)**2\n",
        "    return result/len(output)"
      ],
      "execution_count": null,
      "outputs": []
    },
    {
      "cell_type": "markdown",
      "metadata": {
        "id": "Hfp2algK8V4H"
      },
      "source": [
        "이번에는 이전에 실습했던 딥러닝의 간단한 예시 - 모델의 차수가 2차인 경우에  \n",
        "MAE와 MSE를 적용해 보도록 하겠습니다. "
      ]
    },
    {
      "cell_type": "markdown",
      "metadata": {
        "id": "45BSVIBR84x-"
      },
      "source": [
        "1. MAE 적용  \n",
        "학습 데이터: x=[1,2,3,4], y=[1,3,9,19]  \n",
        "테스트 데이터: x=[5,6], y=[33,51]  \n",
        "평가: MAE"
      ]
    },
    {
      "cell_type": "code",
      "metadata": {
        "id": "Jij6jbGF9k7a"
      },
      "source": [
        "# 데이터 정의\n",
        "train_x=[1,2,3,4]\n",
        "train_y=[1,3,9,19]\n",
        "test_x=[5,6]\n",
        "test_y=[33,51]"
      ],
      "execution_count": null,
      "outputs": []
    },
    {
      "cell_type": "code",
      "metadata": {
        "id": "I1dxUsgX9qfJ"
      },
      "source": [
        "# 모델 정의\n",
        "def model(x,W1,W2,b):\n",
        "    return W1*x**2+W2*x+b"
      ],
      "execution_count": null,
      "outputs": []
    },
    {
      "cell_type": "code",
      "metadata": {
        "id": "dMT-G_Mi9vfk"
      },
      "source": [
        "# 학습\n",
        "best_W1=None\n",
        "best_W2=None\n",
        "best_b=None\n",
        "min_loss=100000000\n",
        "for W1 in range(-10,10):\n",
        "    for W2 in range(-10,10):\n",
        "        for b in range(-10,10):\n",
        "            preds=[]\n",
        "            for x,y in zip(train_x,train_y):\n",
        "                pred=model(x,W1,W2,b)\n",
        "                preds.append(pred)\n",
        "            loss=MAE(preds,train_y)\n",
        "            if loss < min_loss:\n",
        "                best_W1=W1\n",
        "                best_W2=W2\n",
        "                best_b=b\n",
        "                min_loss=loss\n",
        "            print('W1:{} W2:{} b:{} x:{} y:{} pred:{} loss:{}'.format(W1,W2,b,train_x,train_y,preds,loss))\n",
        "\n",
        "print(\"Best parameters: W1:{} W2:{} b:{}\".format(best_W1,best_W2,best_b))"
      ],
      "execution_count": null,
      "outputs": []
    },
    {
      "cell_type": "code",
      "metadata": {
        "id": "FNyOyky_KaqA"
      },
      "source": [
        "test_x"
      ],
      "execution_count": null,
      "outputs": []
    },
    {
      "cell_type": "code",
      "metadata": {
        "id": "7LniJmaN-lk_"
      },
      "source": [
        "# 모델 평가\n",
        "test_preds=[]\n",
        "for x in test_x:\n",
        "    pred=model(x,best_W1,best_W2,best_b)\n",
        "    test_preds.append(pred)\n",
        "loss=MAE(preds,test_y)\n",
        "print('Model Evaluation: test_y:{} pred:{} loss:{}'.format(test_y,test_preds,loss))"
      ],
      "execution_count": null,
      "outputs": []
    },
    {
      "cell_type": "markdown",
      "metadata": {
        "id": "y6t104nd9Srq"
      },
      "source": [
        "2. MSE 적용  \n",
        "학습 데이터: x=[1,2,3,4], y=[1,3,9,19]  \n",
        "테스트 데이터: x=[5,6], y=[33,51]  \n",
        "평가: MSE"
      ]
    },
    {
      "cell_type": "code",
      "metadata": {
        "id": "cxFrtrDW_v8-"
      },
      "source": [
        "# 데이터 정의\n",
        "train_x=[1,2,3,4]\n",
        "train_y=[1,3,9,19]\n",
        "test_x=[5,6]\n",
        "test_y=[33,51]"
      ],
      "execution_count": null,
      "outputs": []
    },
    {
      "cell_type": "code",
      "metadata": {
        "id": "UmHkvBNT_1Rb"
      },
      "source": [
        "# 모델 정의\n",
        "def model(x,W1,W2,b):\n",
        "    return W1*x**2+W2*x+b"
      ],
      "execution_count": null,
      "outputs": []
    },
    {
      "cell_type": "code",
      "metadata": {
        "id": "jhQZnXFa_3VR"
      },
      "source": [
        "# 학습\n",
        "best_W1=None\n",
        "best_W2=None\n",
        "best_b=None\n",
        "min_loss=100000000\n",
        "for W1 in range(-10,10):\n",
        "    for W2 in range(-10,10):\n",
        "        for b in range(-10,10):\n",
        "            preds=[]\n",
        "            for x,y in zip(train_x,train_y):\n",
        "                pred=model(x,W1,W2,b)\n",
        "                preds.append(pred)\n",
        "            loss=MSE(preds,train_y)\n",
        "            if loss < min_loss:\n",
        "                best_W1=W1\n",
        "                best_W2=W2\n",
        "                best_b=b\n",
        "                min_loss=loss\n",
        "            print('W1:{} W2:{} b:{} x:{} y:{} pred:{} loss:{}'.format(W1,W2,b,train_x,train_y,preds,loss))\n",
        "\n",
        "print(\"Best parameters: W1:{} W2:{} b:{}\".format(best_W1,best_W2,best_b))"
      ],
      "execution_count": null,
      "outputs": []
    },
    {
      "cell_type": "code",
      "metadata": {
        "id": "qBmhnLQC_6kT"
      },
      "source": [
        "# 모델 평가\n",
        "test_preds=[]\n",
        "for x in test_x:\n",
        "    pred=model(x,best_W1,best_W2,best_b)\n",
        "    test_preds.append(pred)\n",
        "loss=MSE(test_preds,test_y)\n",
        "print('Model Evaluation: test_y:{} pred:{} loss:{}'.format(test_y,test_preds,loss))"
      ],
      "execution_count": null,
      "outputs": []
    }
  ]
}