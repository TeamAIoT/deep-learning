{
  "nbformat": 4,
  "nbformat_minor": 0,
  "metadata": {
    "colab": {
      "name": "lab02_mathematics.ipynb",
      "provenance": [],
      "collapsed_sections": []
    },
    "kernelspec": {
      "name": "python3",
      "display_name": "Python 3"
    },
    "language_info": {
      "name": "python"
    }
  },
  "cells": [
    {
      "cell_type": "markdown",
      "metadata": {
        "id": "1s3CqPzN-_uY"
      },
      "source": [
        "# Vector, Matrix, Tensor  \n",
        "Python에서의 Vector, Matrix, Tensor는 각각  \n",
        "1차원 리스트, 2차원 리스트, 3차원 이상의 리스트로 표현할 수 있습니다.  \n",
        "## Vector"
      ]
    },
    {
      "cell_type": "code",
      "metadata": {
        "id": "T0FLGO0R8cOi"
      },
      "source": [
        "# Vectors\n",
        "class Vector:\n",
        "    def __init__(self,*args):\n",
        "        self.items=[]\n",
        "        for arg in args:\n",
        "            self.items.append(arg)\n",
        "\n",
        "    def __len__(self):\n",
        "        return len(self.items)\n",
        "\n",
        "    def __str__(self):\n",
        "        return '['+' '.join(str(s) for s in self.items)+']'\n",
        "\n",
        "    def __getitem__(self,idx):\n",
        "        return self.items[idx]\n",
        "\n",
        "u=Vector(1,2)\n",
        "v=Vector(3,4)\n",
        "\n",
        "print(u)\n",
        "print(v)"
      ],
      "execution_count": null,
      "outputs": []
    },
    {
      "cell_type": "markdown",
      "metadata": {
        "id": "9Qx0_x_vDCOD"
      },
      "source": [
        "## Operations between vectors\n",
        "1. plus(minus)"
      ]
    },
    {
      "cell_type": "code",
      "metadata": {
        "id": "KOC6pcHDDBZV"
      },
      "source": [
        "# Vectors\n",
        "class Vector(Vector):\n",
        "    def __add__(self,other):\n",
        "        if not len(self)==len(other):\n",
        "            print('Vector size wrong! : {} {}'.format(len(self),len(other)))\n",
        "            return\n",
        "        else:\n",
        "            return Vector(*[a+b for a,b in zip(self,other)])\n",
        "    def __sub__(self,other):\n",
        "        if not len(self)==len(other):\n",
        "            print('Vector size wrong! : {} {}'.format(len(self),len(other)))\n",
        "            return\n",
        "        else:\n",
        "            return Vector(*[a-b for a,b in zip(self,other)])"
      ],
      "execution_count": null,
      "outputs": []
    },
    {
      "cell_type": "code",
      "metadata": {
        "id": "oF0GMPLND1bi"
      },
      "source": [
        "u=Vector(1,2)\n",
        "v=Vector(3,4)"
      ],
      "execution_count": null,
      "outputs": []
    },
    {
      "cell_type": "code",
      "metadata": {
        "id": "9JkBk0NmD3M8"
      },
      "source": [
        "w=u+v\n",
        "print(w)"
      ],
      "execution_count": null,
      "outputs": []
    },
    {
      "cell_type": "markdown",
      "metadata": {
        "id": "hKC20OnED8m-"
      },
      "source": [
        "2. Scala Mutiplication"
      ]
    },
    {
      "cell_type": "code",
      "metadata": {
        "id": "oIkUYzJSEV0N"
      },
      "source": [
        "class Scala:\n",
        "    def __init__(self,value):\n",
        "        self.value=value\n",
        "\n",
        "    def __mul__(self,other):\n",
        "        # scala multiplication\n",
        "        if isinstance(other,Vector):\n",
        "            return Vector(*[self.value*a for a in other])\n",
        "        elif isinstance(other,int) or isinstance(other,float):\n",
        "            return self.value*other\n",
        "\n",
        "    def __str__(self):\n",
        "        return str(self.value)"
      ],
      "execution_count": null,
      "outputs": []
    },
    {
      "cell_type": "code",
      "metadata": {
        "id": "MXKINcVcFI_E"
      },
      "source": [
        "k=Scala(3)\n",
        "u=Vector(1,2)\n",
        "print(k*u)"
      ],
      "execution_count": null,
      "outputs": []
    },
    {
      "cell_type": "markdown",
      "metadata": {
        "id": "QAFLgqjTFaST"
      },
      "source": [
        "3. Dot product"
      ]
    },
    {
      "cell_type": "code",
      "metadata": {
        "id": "TcFda28pFc9d"
      },
      "source": [
        "class Vector(Vector):\n",
        "    def __mul__(self,other):\n",
        "        if not len(self)==len(other):\n",
        "            print('Vector size wrong! : {} {}'.format(len(self),len(other)))\n",
        "            return\n",
        "        else:\n",
        "            return Vector(*[a*b for a,b in zip(self,other)])"
      ],
      "execution_count": null,
      "outputs": []
    },
    {
      "cell_type": "code",
      "metadata": {
        "id": "s5wqUSxSFvkk"
      },
      "source": [
        "u=Vector(1,2)\n",
        "v=Vector(3,4)\n",
        "w=u*v\n",
        "print(w)"
      ],
      "execution_count": null,
      "outputs": []
    },
    {
      "cell_type": "markdown",
      "metadata": {
        "id": "qL0mZcQAGRhB"
      },
      "source": [
        "## Matrix"
      ]
    },
    {
      "cell_type": "code",
      "metadata": {
        "id": "aQxUlKbiGUNX"
      },
      "source": [
        "class Matrix:\n",
        "    def __init__(self,*items):\n",
        "        self.items=[]\n",
        "        for i in range(len(items)):\n",
        "            row=[]\n",
        "            for j in range(len(items[i])):\n",
        "                row.append(items[i][j])\n",
        "            self.items.append(row)\n",
        "\n",
        "    def __str__(self):\n",
        "        line='['\n",
        "        for i in range(len(self.items)):\n",
        "            line+='['\n",
        "            for j in range(len(self.items[i])):\n",
        "                line+=str(self.items[i][j])\n",
        "                if not j==len(self.items[i])-1:\n",
        "                    line+=' '\n",
        "            line+=']'\n",
        "            if not i==len(self.items)-1:\n",
        "                line+='\\n'\n",
        "        line+=']'\n",
        "        return line\n",
        "\n",
        "    def size(self):\n",
        "        return len(self.items),len(self.items[0])"
      ],
      "execution_count": null,
      "outputs": []
    },
    {
      "cell_type": "code",
      "metadata": {
        "id": "3s30txwTHVpo"
      },
      "source": [
        "a=Matrix((1,2),(3,4))\n",
        "b=Matrix([1,2],[3,4])\n",
        "print(a)\n",
        "print(b)"
      ],
      "execution_count": null,
      "outputs": []
    },
    {
      "cell_type": "markdown",
      "metadata": {
        "id": "qijKgrMvbYE4"
      },
      "source": [
        "## Operations between matrices\n",
        "1. plus(minus)"
      ]
    },
    {
      "cell_type": "code",
      "metadata": {
        "id": "AISV-TWhcAHz"
      },
      "source": [
        "class Matrix(Matrix):\n",
        "    def __add__(self,other):\n",
        "        if not len(self.items)==len(other.items) or not len(self.items[0])==len(other.items[0]):\n",
        "            print('Matrix size wrong! : {} {}'.format(self.size(),other.size()))\n",
        "            return\n",
        "        else:\n",
        "            temp=[]\n",
        "            for i in range(len(self.items)):\n",
        "                row=[]\n",
        "                for j in range(len(self.items[i])):\n",
        "                    row.append(self.items[i][j]+other.items[i][j])\n",
        "                temp.append(row)\n",
        "            return Matrix(*temp)\n",
        "    \n",
        "    def __sub__(self,other):\n",
        "        if not len(self.items)==len(other.items) or not len(self.items[0])==len(other.items[0]):\n",
        "            print('Matrix size wrong! : {} {}'.format(self.size(),other.size()))\n",
        "            return\n",
        "        else:\n",
        "            temp=[]\n",
        "            for i in range(len(self.items)):\n",
        "                row=[]\n",
        "                for j in range(len(self.items[i])):\n",
        "                    row.append(self.items[i][j]-other.items[i][j])\n",
        "                temp.append(row)\n",
        "            return Matrix(*temp)"
      ],
      "execution_count": null,
      "outputs": []
    },
    {
      "cell_type": "code",
      "metadata": {
        "id": "w8CU4dsXd89j"
      },
      "source": [
        "a=Matrix([1,2],[3,4],[5,6])\n",
        "b=Matrix([7,8],[9,10])\n",
        "c=a+b\n",
        "print(c)"
      ],
      "execution_count": null,
      "outputs": []
    },
    {
      "cell_type": "markdown",
      "metadata": {
        "id": "C8EGkC1dkeWg"
      },
      "source": [
        "2. Scala Multiplication"
      ]
    },
    {
      "cell_type": "code",
      "metadata": {
        "id": "peq3VfW9kh9x"
      },
      "source": [
        "class Scala(Scala):\n",
        "    def __mul__(self,other):\n",
        "        # scala multiplication\n",
        "        if isinstance(other,Vector):\n",
        "            return Vector(*[self.value*a for a in other])\n",
        "\n",
        "        elif isinstance(other,Matrix):\n",
        "            temp=[]\n",
        "            for i in range(len(other.items)):\n",
        "                row=[]\n",
        "                for j in range(len(other.items[i])):\n",
        "                    row.append(self.value*other.items[i][j])\n",
        "                temp.append(row)\n",
        "            return Matrix(*temp)\n",
        "            \n",
        "        elif isinstance(other,int) or isinstance(other,float):\n",
        "            return self.value*other"
      ],
      "execution_count": null,
      "outputs": []
    },
    {
      "cell_type": "code",
      "metadata": {
        "id": "W3MJDXbWlHZF"
      },
      "source": [
        "a=Matrix([1,2],[3,4],[5,6])\n",
        "k=Scala(2)\n",
        "print(k*a)"
      ],
      "execution_count": null,
      "outputs": []
    },
    {
      "cell_type": "markdown",
      "metadata": {
        "id": "oovp94_kleHN"
      },
      "source": [
        "3. Matrix Multiplication"
      ]
    },
    {
      "cell_type": "code",
      "metadata": {
        "id": "wLj7vMZ2lma9"
      },
      "source": [
        "class Matrix(Matrix):\n",
        "    def __mul__(self,other):\n",
        "        if not len(self.items[0]) == len(other.items):\n",
        "            print('Matrix size wrong! : {} {}'.format(self.size(),other.size()))\n",
        "            return\n",
        "        else:\n",
        "            temp=[]\n",
        "            for i in range(len(self.items)):\n",
        "                row=[]\n",
        "                for j in range(len(other.items[0])):\n",
        "                    sum=0\n",
        "                    for k in range(len(self.items[0])):\n",
        "                        sum+=self.items[i][k]*other.items[k][j]\n",
        "                    row.append(sum)\n",
        "                temp.append(row)\n",
        "            return Matrix(*temp)"
      ],
      "execution_count": null,
      "outputs": []
    },
    {
      "cell_type": "code",
      "metadata": {
        "id": "HiVaVllMnbEk"
      },
      "source": [
        "a=Matrix([1,2],[3,4])\n",
        "b=Matrix([5,6],[7,8])\n",
        "c=a*b\n",
        "print(c)"
      ],
      "execution_count": null,
      "outputs": []
    },
    {
      "cell_type": "markdown",
      "metadata": {
        "id": "RYDjiAWup4pH"
      },
      "source": [
        "# Optimization  \n",
        "이번에는 MSE(Mean Squared Error) 손실 함수를 이용하여  \n",
        "1장에서처럼 무작정 대입하는 것이 아닌 수학적 방법(미분)을 이용하여  \n",
        "최적의 매개변수를 찾아 보도록 하겠습니다.  \n",
        "\n",
        "다뤄야 할 매개변수나 상수가 두개 이상이면 편미분이 필요합니다.  \n",
        "이는 대학 수학에서 다뤄야 할 내용이기 때문에 편의를 위해 모델을 상수항이 없는 1차 함수로 정의하겠습니다.  \n",
        "\n",
        "$$y=Wx$$\n",
        "  \n",
        "\n",
        "손실 함수 MSE는 다음과 같습니다.  \n",
        "$$J(\\Theta)=\\cfrac{1}{n}\\sum^n_{i=1}(o_i-y_i)^2$$\n",
        "$$=\\cfrac{1}{n}\\sum^n_{i=1}({\\Theta}x_i-y_i)^2$$\n",
        "$$=\\cfrac{1}{n}\\sum^n_{i=1}(\\Theta^2{x_i}^2-2\\Theta{x_i}{y_i}-{y_i}^2)$$\n",
        "\n",
        "위 손실 함수를 매개 변수에 대해 미분하면 다음과 같습니다.  \n",
        "\n",
        "$$\\nabla{J}=\\cfrac{1}{n}\\sum^n_{i=1}(2\\Theta{x_i}^2-2x_iy_i)$$  \n",
        "\n",
        "매개 변수의 갱신은 다음 식으로 이루어집니다.  \n",
        "\n",
        "$$ \\Theta_{new} = \\Theta_{old} - \\rho\\nabla{J}$$"
      ]
    },
    {
      "cell_type": "code",
      "metadata": {
        "id": "fS0JkfrcGLHJ"
      },
      "source": [
        "# 손실 함수 정의\n",
        "def MSE(o,y):\n",
        "    result=0\n",
        "    for oi,yi in zip(o,y):\n",
        "        result+=(oi-yi)**2\n",
        "    return result/len(o)"
      ],
      "execution_count": null,
      "outputs": []
    },
    {
      "cell_type": "code",
      "metadata": {
        "id": "i-rQMVK5Gs0G"
      },
      "source": [
        "# 그래디언트 계산 함수 정의\n",
        "def gradient_MSE(W,x,y):\n",
        "    result=0\n",
        "    for xi,yi in zip(x,y):\n",
        "        result+=2*W*(xi**2)-2*xi*yi\n",
        "    return result/len(x)"
      ],
      "execution_count": null,
      "outputs": []
    },
    {
      "cell_type": "code",
      "metadata": {
        "id": "4a0WmdPBrUPr"
      },
      "source": [
        "train_x=[1,2,3,4]\n",
        "train_y=[2,4,6,8]\n",
        "\n",
        "test_x=[5,6]\n",
        "test_y=[10,12]"
      ],
      "execution_count": null,
      "outputs": []
    },
    {
      "cell_type": "code",
      "metadata": {
        "id": "a9gxJ2yLHfif"
      },
      "source": [
        "lr=0.001 # learning rate"
      ],
      "execution_count": null,
      "outputs": []
    },
    {
      "cell_type": "code",
      "metadata": {
        "id": "D9GEr852HjBl"
      },
      "source": [
        "def model(x,W):\n",
        "    return W*x"
      ],
      "execution_count": null,
      "outputs": []
    },
    {
      "cell_type": "code",
      "metadata": {
        "id": "CK8ApXtMHnc6"
      },
      "source": [
        "import random\n",
        "\n",
        "W=random.uniform(-10,10) # -10이상 10미만의 난수로 매개변수 초기화\n",
        "\n",
        "print('Initial parameter : {}'.format(W))\n",
        "\n",
        "W_log=[]\n",
        "loss_log=[]\n",
        "\n",
        "for epoch in range(1000):\n",
        "    preds=[]\n",
        "    for xi in train_x:\n",
        "        pred=model(xi,W)\n",
        "        preds.append(pred)\n",
        "    loss=MSE(preds,train_y)\n",
        "    W_log.append(W)\n",
        "    loss_log.append(loss)\n",
        "    if epoch % 50==0:\n",
        "        print('Training Epoch {} : W: {:.6f} Loss : {:.6f}'.format(epoch,W,loss))\n",
        "    gradient=gradient_MSE(W,train_x,train_y)\n",
        "    W=W-lr*gradient"
      ],
      "execution_count": null,
      "outputs": []
    },
    {
      "cell_type": "code",
      "metadata": {
        "id": "B7SvptB5Jy3p"
      },
      "source": [
        "import matplotlib.pyplot as plt\n",
        "%matplotlib inline\n",
        "plt.plot(W_log,loss_log)"
      ],
      "execution_count": null,
      "outputs": []
    },
    {
      "cell_type": "markdown",
      "metadata": {
        "id": "hr6J4O5ZM0Lq"
      },
      "source": [
        "이번에는 약간의 노이즈가 있고,  \n",
        "데이터가 이전 예시보단 많은(100) 경우에서도  \n",
        "학습이 제대로 이뤄지는 지 알아보도록 하겠습니다."
      ]
    },
    {
      "cell_type": "code",
      "metadata": {
        "id": "7oTklUmgLX_a"
      },
      "source": [
        "train_x=[i for i in range(1,101)]\n",
        "train_y=[2*i*random.uniform(0.99,1.01) for i in range(1,101)] # y=2x 데이터에 0.99이상 1.01이하의 작은 노이즈를 준다.\n",
        "plt.plot(train_x,train_y) # 학습 데이터의 x와 y를 그래프로 표시"
      ],
      "execution_count": null,
      "outputs": []
    },
    {
      "cell_type": "code",
      "metadata": {
        "id": "QzFtIjteMWWX"
      },
      "source": [
        "lr=0.00001 # 데이터가 많아 오버플로우가 발생하므로 이전 실습보다 더 작은 학습률을 지정"
      ],
      "execution_count": null,
      "outputs": []
    },
    {
      "cell_type": "code",
      "metadata": {
        "id": "KgR4rPI4L_8O"
      },
      "source": [
        "import random\n",
        "\n",
        "W=random.uniform(-5,5) # 오버플로우 방지를 위해 이전 실습보다 더 작은 범위에서 랜덤으로 초기 매개변수 지정\n",
        "\n",
        "print('Initial parameter : {}'.format(W))\n",
        "\n",
        "W_log=[]\n",
        "loss_log=[]\n",
        "\n",
        "for epoch in range(1000):\n",
        "    preds=[]\n",
        "    for xi in train_x:\n",
        "        pred=model(xi,W)\n",
        "        preds.append(pred)\n",
        "    loss=MSE(preds,train_y)\n",
        "    W_log.append(W)\n",
        "    loss_log.append(loss)\n",
        "    if epoch % 50==0:\n",
        "        print('Training Epoch {} : W: {:.6f} Loss : {:.6f}'.format(epoch,W,loss))\n",
        "    gradient=gradient_MSE(W,train_x,train_y)\n",
        "    W=W-lr*gradient"
      ],
      "execution_count": null,
      "outputs": []
    },
    {
      "cell_type": "code",
      "metadata": {
        "id": "CNBywOuRMcBt"
      },
      "source": [
        "# Loss Graph\n",
        "plt.plot(W_log,loss_log)"
      ],
      "execution_count": null,
      "outputs": []
    },
    {
      "cell_type": "code",
      "metadata": {
        "id": "-5hLhtddMgVP"
      },
      "source": [
        "# 실제 학습 y 데이터(파랑)와 학습 결과 모델이 예측한 데이터(주황)과의 비교\n",
        "plt.plot(train_x,train_y,preds)"
      ],
      "execution_count": null,
      "outputs": []
    }
  ]
}